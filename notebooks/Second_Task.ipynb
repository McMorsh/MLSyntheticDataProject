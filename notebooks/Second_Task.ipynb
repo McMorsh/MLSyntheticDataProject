{
 "cells": [
  {
   "metadata": {},
   "cell_type": "markdown",
   "source": [
    "# Задание 2. Регрессия\n",
    "\n",
    "---\n"
   ],
   "id": "f12443b439d5b597"
  },
  {
   "metadata": {},
   "cell_type": "markdown",
   "source": [
    "## Этапы:\n",
    "1. Генерация данных (линейная комбинация признаков + шум)\n",
    "2. Разделение на train/test\n",
    "3. Построение модели (Bagging + LinearRegression)\n",
    "4. Оценка по MSE и R²\n",
    "5. Проверка мультиколлинеарности (корреляции, VIF)\n",
    "6. Анализ остатков\n",
    "7. Оценка важности признаков\n",
    "\n",
    "---\n"
   ],
   "id": "ab371ecd7eab4509"
  },
  {
   "metadata": {},
   "cell_type": "markdown",
   "source": "### 1. Генерация данных",
   "id": "ff3bf413360335a8"
  },
  {
   "metadata": {
    "ExecuteTime": {
     "end_time": "2025-09-24T18:49:09.860341Z",
     "start_time": "2025-09-24T18:49:09.857091Z"
    }
   },
   "cell_type": "code",
   "source": [
    "import numpy as np\n",
    "\n",
    "n_samples = 1000\n",
    "n_features = 10\n",
    "coefficients = np.random.randn(n_features)\n",
    "\n",
    "x = np.random.randn(n_samples, n_features)\n",
    "y = x.dot(coefficients) + np.random.normal(scale=1.0, size=n_samples)  # Добавляем шум"
   ],
   "id": "43b3b10f6a6c9849",
   "outputs": [],
   "execution_count": 27
  },
  {
   "metadata": {},
   "cell_type": "markdown",
   "source": [
    "---\n",
    "\n",
    "### 2. Разделение данных (train 80/ test 20)"
   ],
   "id": "14593de257130e92"
  },
  {
   "metadata": {
    "ExecuteTime": {
     "end_time": "2025-09-24T18:49:09.875711Z",
     "start_time": "2025-09-24T18:49:09.872023Z"
    }
   },
   "cell_type": "code",
   "source": [
    "from sklearn.model_selection import train_test_split\n",
    "\n",
    "x_train, x_test, y_train, y_test = train_test_split(x, y, train_size=0.8, random_state=12)"
   ],
   "id": "51e5ea44f831c567",
   "outputs": [],
   "execution_count": 28
  },
  {
   "metadata": {},
   "cell_type": "markdown",
   "source": [
    "---\n",
    "\n",
    "### 3. Построение модели с использованием bagging"
   ],
   "id": "b46cac50cad4ef1c"
  },
  {
   "metadata": {
    "ExecuteTime": {
     "end_time": "2025-09-24T18:49:09.887628Z",
     "start_time": "2025-09-24T18:49:09.884757Z"
    }
   },
   "cell_type": "code",
   "source": [
    "from sklearn.ensemble import BaggingRegressor\n",
    "from sklearn.linear_model import LinearRegression\n",
    "\n",
    "bag = BaggingRegressor(estimator=LinearRegression(), n_estimators=100, random_state=12)"
   ],
   "id": "131794ed291024cd",
   "outputs": [],
   "execution_count": 29
  },
  {
   "metadata": {},
   "cell_type": "markdown",
   "source": [
    "---\n",
    "\n",
    "### 4. Оценка качества модели с помощью метрик MSE (Mean Squared Error) и R^2 (коэффициент детерминации)"
   ],
   "id": "2d48489dfc589275"
  },
  {
   "metadata": {
    "ExecuteTime": {
     "end_time": "2025-09-24T18:49:10.025426Z",
     "start_time": "2025-09-24T18:49:09.893878Z"
    }
   },
   "cell_type": "code",
   "source": [
    "from sklearn.metrics import mean_squared_error, r2_score\n",
    "\n",
    "bag.fit(x_train, y_train)\n",
    "y_pred = bag.predict(x_test)\n",
    "\n",
    "mse = mean_squared_error(y_test, y_pred)\n",
    "r2 = r2_score(y_test, y_pred)\n",
    "print('MSE: %.3f' % mse)  # MSE~1(scale)\n",
    "print('R2: %.3f' % r2)  # R2 ~ 0.9-0.95"
   ],
   "id": "524ac9f284b5c00f",
   "outputs": [
    {
     "name": "stdout",
     "output_type": "stream",
     "text": [
      "MSE: 0.980\n",
      "R2: 0.909\n"
     ]
    }
   ],
   "execution_count": 30
  },
  {
   "metadata": {
    "ExecuteTime": {
     "end_time": "2025-09-24T18:49:10.038392Z",
     "start_time": "2025-09-24T18:49:10.034615Z"
    }
   },
   "cell_type": "code",
   "source": [
    "import pandas as pd\n",
    "\n",
    "# Сохраняем результат\n",
    "pd.DataFrame([{'MSE': mse, 'R2': r2}]).to_csv('../data/regression_metrics.csv', index=False)"
   ],
   "id": "9a78af245186d267",
   "outputs": [],
   "execution_count": 31
  },
  {
   "metadata": {},
   "cell_type": "markdown",
   "source": "### 5. Проверка мультиколлинеарности (корреляции, VIF)",
   "id": "5d4192fc0198f2e7"
  },
  {
   "metadata": {
    "ExecuteTime": {
     "end_time": "2025-09-24T18:49:10.054209Z",
     "start_time": "2025-09-24T18:49:10.045657Z"
    }
   },
   "cell_type": "code",
   "source": [
    "# Корреляция\n",
    "df_features = pd.DataFrame(x, columns=[f\"x{i + 1}\" for i in range(n_features)])\n",
    "corr = df_features.corr()\n",
    "display(corr.iloc[:5, :5])"
   ],
   "id": "f344b1d1c752fb7b",
   "outputs": [
    {
     "data": {
      "text/plain": [
       "          x1        x2        x3        x4        x5\n",
       "x1  1.000000 -0.056431  0.000131 -0.020459  0.028658\n",
       "x2 -0.056431  1.000000  0.003991  0.018714 -0.072356\n",
       "x3  0.000131  0.003991  1.000000  0.032295 -0.002865\n",
       "x4 -0.020459  0.018714  0.032295  1.000000 -0.007321\n",
       "x5  0.028658 -0.072356 -0.002865 -0.007321  1.000000"
      ],
      "text/html": [
       "<div>\n",
       "<style scoped>\n",
       "    .dataframe tbody tr th:only-of-type {\n",
       "        vertical-align: middle;\n",
       "    }\n",
       "\n",
       "    .dataframe tbody tr th {\n",
       "        vertical-align: top;\n",
       "    }\n",
       "\n",
       "    .dataframe thead th {\n",
       "        text-align: right;\n",
       "    }\n",
       "</style>\n",
       "<table border=\"1\" class=\"dataframe\">\n",
       "  <thead>\n",
       "    <tr style=\"text-align: right;\">\n",
       "      <th></th>\n",
       "      <th>x1</th>\n",
       "      <th>x2</th>\n",
       "      <th>x3</th>\n",
       "      <th>x4</th>\n",
       "      <th>x5</th>\n",
       "    </tr>\n",
       "  </thead>\n",
       "  <tbody>\n",
       "    <tr>\n",
       "      <th>x1</th>\n",
       "      <td>1.000000</td>\n",
       "      <td>-0.056431</td>\n",
       "      <td>0.000131</td>\n",
       "      <td>-0.020459</td>\n",
       "      <td>0.028658</td>\n",
       "    </tr>\n",
       "    <tr>\n",
       "      <th>x2</th>\n",
       "      <td>-0.056431</td>\n",
       "      <td>1.000000</td>\n",
       "      <td>0.003991</td>\n",
       "      <td>0.018714</td>\n",
       "      <td>-0.072356</td>\n",
       "    </tr>\n",
       "    <tr>\n",
       "      <th>x3</th>\n",
       "      <td>0.000131</td>\n",
       "      <td>0.003991</td>\n",
       "      <td>1.000000</td>\n",
       "      <td>0.032295</td>\n",
       "      <td>-0.002865</td>\n",
       "    </tr>\n",
       "    <tr>\n",
       "      <th>x4</th>\n",
       "      <td>-0.020459</td>\n",
       "      <td>0.018714</td>\n",
       "      <td>0.032295</td>\n",
       "      <td>1.000000</td>\n",
       "      <td>-0.007321</td>\n",
       "    </tr>\n",
       "    <tr>\n",
       "      <th>x5</th>\n",
       "      <td>0.028658</td>\n",
       "      <td>-0.072356</td>\n",
       "      <td>-0.002865</td>\n",
       "      <td>-0.007321</td>\n",
       "      <td>1.000000</td>\n",
       "    </tr>\n",
       "  </tbody>\n",
       "</table>\n",
       "</div>"
      ]
     },
     "metadata": {},
     "output_type": "display_data",
     "jetTransient": {
      "display_id": null
     }
    }
   ],
   "execution_count": 32
  },
  {
   "metadata": {
    "ExecuteTime": {
     "end_time": "2025-09-24T18:49:10.099057Z",
     "start_time": "2025-09-24T18:49:10.085097Z"
    }
   },
   "cell_type": "code",
   "source": [
    "# VIF\n",
    "from statsmodels.stats.outliers_influence import variance_inflation_factor\n",
    "\n",
    "vif_data = pd.DataFrame({'features': df_features.columns,\n",
    "                         'VIF': [variance_inflation_factor(df_features.values, i) for i in range(n_features)]})\n",
    "\n",
    "display(vif_data)\n",
    "vif_data.to_csv('../data/regression_vif_data.csv', index=False)"
   ],
   "id": "92cf9a34906a6b08",
   "outputs": [
    {
     "data": {
      "text/plain": [
       "  features       VIF\n",
       "0       x1  1.007193\n",
       "1       x2  1.018261\n",
       "2       x3  1.003062\n",
       "3       x4  1.007466\n",
       "4       x5  1.007775\n",
       "5       x6  1.009881\n",
       "6       x7  1.006845\n",
       "7       x8  1.003705\n",
       "8       x9  1.008637\n",
       "9      x10  1.005212"
      ],
      "text/html": [
       "<div>\n",
       "<style scoped>\n",
       "    .dataframe tbody tr th:only-of-type {\n",
       "        vertical-align: middle;\n",
       "    }\n",
       "\n",
       "    .dataframe tbody tr th {\n",
       "        vertical-align: top;\n",
       "    }\n",
       "\n",
       "    .dataframe thead th {\n",
       "        text-align: right;\n",
       "    }\n",
       "</style>\n",
       "<table border=\"1\" class=\"dataframe\">\n",
       "  <thead>\n",
       "    <tr style=\"text-align: right;\">\n",
       "      <th></th>\n",
       "      <th>features</th>\n",
       "      <th>VIF</th>\n",
       "    </tr>\n",
       "  </thead>\n",
       "  <tbody>\n",
       "    <tr>\n",
       "      <th>0</th>\n",
       "      <td>x1</td>\n",
       "      <td>1.007193</td>\n",
       "    </tr>\n",
       "    <tr>\n",
       "      <th>1</th>\n",
       "      <td>x2</td>\n",
       "      <td>1.018261</td>\n",
       "    </tr>\n",
       "    <tr>\n",
       "      <th>2</th>\n",
       "      <td>x3</td>\n",
       "      <td>1.003062</td>\n",
       "    </tr>\n",
       "    <tr>\n",
       "      <th>3</th>\n",
       "      <td>x4</td>\n",
       "      <td>1.007466</td>\n",
       "    </tr>\n",
       "    <tr>\n",
       "      <th>4</th>\n",
       "      <td>x5</td>\n",
       "      <td>1.007775</td>\n",
       "    </tr>\n",
       "    <tr>\n",
       "      <th>5</th>\n",
       "      <td>x6</td>\n",
       "      <td>1.009881</td>\n",
       "    </tr>\n",
       "    <tr>\n",
       "      <th>6</th>\n",
       "      <td>x7</td>\n",
       "      <td>1.006845</td>\n",
       "    </tr>\n",
       "    <tr>\n",
       "      <th>7</th>\n",
       "      <td>x8</td>\n",
       "      <td>1.003705</td>\n",
       "    </tr>\n",
       "    <tr>\n",
       "      <th>8</th>\n",
       "      <td>x9</td>\n",
       "      <td>1.008637</td>\n",
       "    </tr>\n",
       "    <tr>\n",
       "      <th>9</th>\n",
       "      <td>x10</td>\n",
       "      <td>1.005212</td>\n",
       "    </tr>\n",
       "  </tbody>\n",
       "</table>\n",
       "</div>"
      ]
     },
     "metadata": {},
     "output_type": "display_data",
     "jetTransient": {
      "display_id": null
     }
    }
   ],
   "execution_count": 33
  },
  {
   "metadata": {},
   "cell_type": "markdown",
   "source": [
    "Вывод: мультиколлинеарности нет. Признаки в VIF не дублируются, стремятся к 1. В корреляции значения < 0.1, что дает понять о слабой зависимости\n",
    "\n",
    "---\n"
   ],
   "id": "2c85a2820e5c9902"
  },
  {
   "metadata": {},
   "cell_type": "markdown",
   "source": "### 6. Анализ остатков модели",
   "id": "ca3cd86f95be048a"
  },
  {
   "metadata": {
    "ExecuteTime": {
     "end_time": "2025-09-24T18:49:10.263757Z",
     "start_time": "2025-09-24T18:49:10.168471Z"
    }
   },
   "cell_type": "code",
   "source": [
    "import matplotlib.pyplot as plt\n",
    "\n",
    "residuals = y_test - y_pred\n",
    "\n",
    "plt.figure()\n",
    "plt.scatter(y_pred, residuals, alpha=0.7)\n",
    "plt.axhline(y=0, linestyle='--')\n",
    "plt.xlabel('Predicted')\n",
    "plt.ylabel('Residuals')\n",
    "plt.grid(alpha=0.3)\n",
    "plt.show()\n",
    "\n",
    "# Должна быть случайность + близко к 0"
   ],
   "id": "3ea20da2c7d38547",
   "outputs": [
    {
     "data": {
      "text/plain": [
       "<Figure size 640x480 with 1 Axes>"
      ],
      "image/png": "[encoded data removed]"
     },
     "metadata": {},
     "output_type": "display_data",
     "jetTransient": {
      "display_id": null
     }
    }
   ],
   "execution_count": 34
  },
  {
   "metadata": {},
   "cell_type": "markdown",
   "source": [
    "---\n",
    "\n",
    "### 7. Оценка важности признаков"
   ],
   "id": "d1c3936c30382736"
  },
  {
   "metadata": {
    "ExecuteTime": {
     "end_time": "2025-09-24T18:49:10.297144Z",
     "start_time": "2025-09-24T18:49:10.289575Z"
    }
   },
   "cell_type": "code",
   "source": [
    "if hasattr(bag, \"estimator_\"):\n",
    "    coefs = np.array([est.coef_ for est in bag.estimators_ if hasattr(est, 'coef_')])\n",
    "    mean_coefs = coefs.mean(axis=0)\n",
    "    features = pd.DataFrame({\n",
    "        'feature': df_features.columns,\n",
    "        'mean_coef': mean_coefs,\n",
    "        'abs_mean_coef': np.abs(mean_coefs),\n",
    "    }).sort_values('abs_mean_coef', ascending=False).reset_index(drop=True)\n",
    "    display(features)\n",
    "else:\n",
    "    print(\"Нет нужного атрибута\")\n"
   ],
   "id": "45630f016aaca1a5",
   "outputs": [
    {
     "data": {
      "text/plain": [
       "  feature  mean_coef  abs_mean_coef\n",
       "0      x9  -2.304860       2.304860\n",
       "1      x5   1.033938       1.033938\n",
       "2      x2  -1.024329       1.024329\n",
       "3      x1  -0.825051       0.825051\n",
       "4      x4   0.810869       0.810869\n",
       "5     x10  -0.557109       0.557109\n",
       "6      x3   0.273416       0.273416\n",
       "7      x8  -0.203568       0.203568\n",
       "8      x6   0.195464       0.195464\n",
       "9      x7   0.156782       0.156782"
      ],
      "text/html": [
       "<div>\n",
       "<style scoped>\n",
       "    .dataframe tbody tr th:only-of-type {\n",
       "        vertical-align: middle;\n",
       "    }\n",
       "\n",
       "    .dataframe tbody tr th {\n",
       "        vertical-align: top;\n",
       "    }\n",
       "\n",
       "    .dataframe thead th {\n",
       "        text-align: right;\n",
       "    }\n",
       "</style>\n",
       "<table border=\"1\" class=\"dataframe\">\n",
       "  <thead>\n",
       "    <tr style=\"text-align: right;\">\n",
       "      <th></th>\n",
       "      <th>feature</th>\n",
       "      <th>mean_coef</th>\n",
       "      <th>abs_mean_coef</th>\n",
       "    </tr>\n",
       "  </thead>\n",
       "  <tbody>\n",
       "    <tr>\n",
       "      <th>0</th>\n",
       "      <td>x9</td>\n",
       "      <td>-2.304860</td>\n",
       "      <td>2.304860</td>\n",
       "    </tr>\n",
       "    <tr>\n",
       "      <th>1</th>\n",
       "      <td>x5</td>\n",
       "      <td>1.033938</td>\n",
       "      <td>1.033938</td>\n",
       "    </tr>\n",
       "    <tr>\n",
       "      <th>2</th>\n",
       "      <td>x2</td>\n",
       "      <td>-1.024329</td>\n",
       "      <td>1.024329</td>\n",
       "    </tr>\n",
       "    <tr>\n",
       "      <th>3</th>\n",
       "      <td>x1</td>\n",
       "      <td>-0.825051</td>\n",
       "      <td>0.825051</td>\n",
       "    </tr>\n",
       "    <tr>\n",
       "      <th>4</th>\n",
       "      <td>x4</td>\n",
       "      <td>0.810869</td>\n",
       "      <td>0.810869</td>\n",
       "    </tr>\n",
       "    <tr>\n",
       "      <th>5</th>\n",
       "      <td>x10</td>\n",
       "      <td>-0.557109</td>\n",
       "      <td>0.557109</td>\n",
       "    </tr>\n",
       "    <tr>\n",
       "      <th>6</th>\n",
       "      <td>x3</td>\n",
       "      <td>0.273416</td>\n",
       "      <td>0.273416</td>\n",
       "    </tr>\n",
       "    <tr>\n",
       "      <th>7</th>\n",
       "      <td>x8</td>\n",
       "      <td>-0.203568</td>\n",
       "      <td>0.203568</td>\n",
       "    </tr>\n",
       "    <tr>\n",
       "      <th>8</th>\n",
       "      <td>x6</td>\n",
       "      <td>0.195464</td>\n",
       "      <td>0.195464</td>\n",
       "    </tr>\n",
       "    <tr>\n",
       "      <th>9</th>\n",
       "      <td>x7</td>\n",
       "      <td>0.156782</td>\n",
       "      <td>0.156782</td>\n",
       "    </tr>\n",
       "  </tbody>\n",
       "</table>\n",
       "</div>"
      ]
     },
     "metadata": {},
     "output_type": "display_data",
     "jetTransient": {
      "display_id": null
     }
    }
   ],
   "execution_count": 35
  }
 ],
 "metadata": {
  "kernelspec": {
   "display_name": "Python 3",
   "language": "python",
   "name": "python3"
  },
  "language_info": {
   "codemirror_mode": {
    "name": "ipython",
    "version": 2
   },
   "file_extension": ".py",
   "mimetype": "text/x-python",
   "name": "python",
   "nbconvert_exporter": "python",
   "pygments_lexer": "ipython2",
   "version": "2.7.6"
  }
 },
 "nbformat": 4,
 "nbformat_minor": 5
}
